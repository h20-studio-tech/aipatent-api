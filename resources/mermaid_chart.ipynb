<<<<<<< HEAD
{
 "cells": [
  {
   "cell_type": "code",
   "execution_count": 1,
   "metadata": {},
   "outputs": [
    {
     "name": "stdout",
     "output_type": "stream",
     "text": [
      "Collecting mermaid-python\n",
      "  Downloading mermaid_python-0.1-py3-none-any.whl.metadata (1.3 kB)\n",
      "Requirement already satisfied: ipython in c:\\users\\vtorr\\work\\projects\\aipatent\\.venv\\lib\\site-packages (from mermaid-python) (8.18.0)\n",
      "Requirement already satisfied: decorator in c:\\users\\vtorr\\work\\projects\\aipatent\\.venv\\lib\\site-packages (from ipython->mermaid-python) (5.1.1)\n",
      "Requirement already satisfied: jedi>=0.16 in c:\\users\\vtorr\\work\\projects\\aipatent\\.venv\\lib\\site-packages (from ipython->mermaid-python) (0.19.2)\n",
      "Requirement already satisfied: matplotlib-inline in c:\\users\\vtorr\\work\\projects\\aipatent\\.venv\\lib\\site-packages (from ipython->mermaid-python) (0.1.7)\n",
      "Requirement already satisfied: prompt-toolkit!=3.0.37,<3.1.0,>=3.0.30 in c:\\users\\vtorr\\work\\projects\\aipatent\\.venv\\lib\\site-packages (from ipython->mermaid-python) (3.0.36)\n",
      "Requirement already satisfied: pygments>=2.4.0 in c:\\users\\vtorr\\work\\projects\\aipatent\\.venv\\lib\\site-packages (from ipython->mermaid-python) (2.18.0)\n",
      "Requirement already satisfied: stack-data in c:\\users\\vtorr\\work\\projects\\aipatent\\.venv\\lib\\site-packages (from ipython->mermaid-python) (0.6.3)\n",
      "Requirement already satisfied: traitlets>=5 in c:\\users\\vtorr\\work\\projects\\aipatent\\.venv\\lib\\site-packages (from ipython->mermaid-python) (5.14.3)\n",
      "Requirement already satisfied: colorama in c:\\users\\vtorr\\work\\projects\\aipatent\\.venv\\lib\\site-packages (from ipython->mermaid-python) (0.4.6)\n",
      "Requirement already satisfied: parso<0.9.0,>=0.8.4 in c:\\users\\vtorr\\work\\projects\\aipatent\\.venv\\lib\\site-packages (from jedi>=0.16->ipython->mermaid-python) (0.8.4)\n",
      "Requirement already satisfied: wcwidth in c:\\users\\vtorr\\work\\projects\\aipatent\\.venv\\lib\\site-packages (from prompt-toolkit!=3.0.37,<3.1.0,>=3.0.30->ipython->mermaid-python) (0.2.13)\n",
      "Requirement already satisfied: executing>=1.2.0 in c:\\users\\vtorr\\work\\projects\\aipatent\\.venv\\lib\\site-packages (from stack-data->ipython->mermaid-python) (2.1.0)\n",
      "Requirement already satisfied: asttokens>=2.1.0 in c:\\users\\vtorr\\work\\projects\\aipatent\\.venv\\lib\\site-packages (from stack-data->ipython->mermaid-python) (2.4.1)\n",
      "Requirement already satisfied: pure-eval in c:\\users\\vtorr\\work\\projects\\aipatent\\.venv\\lib\\site-packages (from stack-data->ipython->mermaid-python) (0.2.3)\n",
      "Requirement already satisfied: six>=1.12.0 in c:\\users\\vtorr\\work\\projects\\aipatent\\.venv\\lib\\site-packages (from asttokens>=2.1.0->stack-data->ipython->mermaid-python) (1.16.0)\n",
      "Downloading mermaid_python-0.1-py3-none-any.whl (3.2 kB)\n",
      "Installing collected packages: mermaid-python\n",
      "Successfully installed mermaid-python-0.1\n",
      "Note: you may need to restart the kernel to use updated packages.\n"
     ]
    }
   ],
   "source": [
    "%pip install mermaid-python"
   ]
  },
  {
   "cell_type": "code",
   "execution_count": 2,
   "metadata": {},
   "outputs": [
    {
     "data": {
      "text/html": [
       "\n",
       "        <div class=\"mermaid-e8b234a7-1946-425b-9d5d-6731ba8b6c12\"></div>\n",
       "        <script type=\"module\">\n",
       "            import mermaid from 'https://cdn.jsdelivr.net/npm/mermaid@10.1.0/+esm'\n",
       "            const graphDefinition = 'graph TB\\na-->b';\n",
       "            const element = document.querySelector('.mermaid-e8b234a7-1946-425b-9d5d-6731ba8b6c12');\n",
       "            const { svg } = await mermaid.render('graphDiv-e8b234a7-1946-425b-9d5d-6731ba8b6c12', graphDefinition);\n",
       "            element.innerHTML = svg;\n",
       "        </script>\n",
       "        "
      ],
      "text/plain": [
       "<mermaid.mermaid.Mermaid at 0x1ec7f293150>"
      ]
     },
     "execution_count": 2,
     "metadata": {},
     "output_type": "execute_result"
    }
   ],
   "source": [
    "from mermaid import Mermaid\n",
    "Mermaid(\"graph TB\\na-->b\")"
   ]
  },
  {
   "cell_type": "code",
   "execution_count": 61,
   "metadata": {},
   "outputs": [
    {
     "data": {
      "text/html": [
       "\n",
       "        <div class=\"mermaid-54ab98d1-4348-44d0-837c-a7ce41e3e48a\"></div>\n",
       "        <script type=\"module\">\n",
       "            import mermaid from 'https://cdn.jsdelivr.net/npm/mermaid@10.1.0/+esm'\n",
       "            const graphDefinition = '%%{\\n    init: {\\n        \"theme\": \"base\",\\n        \"themeVariables\": {\\n        \"primaryColor\": \"#edf0f5\",\\n        \"primaryTextColor\": \"#353535\",\\n        \"primaryBorderColor\": \"#9fe3ff\",\\n        \"lineColor\": \"#353535\",\\n        \"secondaryColor\": \"#006100\",\\n        \"tertiaryColor\": \"#fff\"\\n        }\\n    }\\n    }%%\\n    flowchart LR\\n    docs -.- chunking([chunking])\\n    chunking([chunking]) -.- me([metadata-extraction])\\n    me([metadata-extraction]) -.- embedding([embedding])\\n    embedding([embedding]) -.- LanceDB[(LanceDB)]\\n    me([metadata-extraction]) -.- LanceDB[(LanceDB)];\\n    \\n';\n",
       "            const element = document.querySelector('.mermaid-54ab98d1-4348-44d0-837c-a7ce41e3e48a');\n",
       "            const { svg } = await mermaid.render('graphDiv-54ab98d1-4348-44d0-837c-a7ce41e3e48a', graphDefinition);\n",
       "            element.innerHTML = svg;\n",
       "        </script>\n",
       "        "
      ],
      "text/plain": [
       "<mermaid.mermaid.Mermaid at 0x1ec7f2bb210>"
      ]
     },
     "execution_count": 61,
     "metadata": {},
     "output_type": "execute_result"
    }
   ],
   "source": [
    "Mermaid(\"\"\"%%{\n",
    "    init: {\n",
    "        'theme': 'base',\n",
    "        'themeVariables': {\n",
    "        'primaryColor': '#edf0f5',\n",
    "        'primaryTextColor': '#353535',\n",
    "        'primaryBorderColor': '#9fe3ff',\n",
    "        'lineColor': '#353535',\n",
    "        'secondaryColor': '#006100',\n",
    "        'tertiaryColor': '#fff'\n",
    "        }\n",
    "    }\n",
    "    }%%\n",
    "    flowchart LR\n",
    "    docs -.- chunking([chunking])\n",
    "    chunking([chunking]) -.- me([metadata-extraction])\n",
    "    me([metadata-extraction]) -.- embedding([embedding])\n",
    "    embedding([embedding]) -.- LanceDB[(LanceDB)]\n",
    "    me([metadata-extraction]) -.- LanceDB[(LanceDB)];\n",
    "    \n",
    "\"\"\")"
   ]
  }
 ],
 "metadata": {
  "kernelspec": {
   "display_name": ".venv",
   "language": "python",
   "name": "python3"
  },
  "language_info": {
   "codemirror_mode": {
    "name": "ipython",
    "version": 3
   },
   "file_extension": ".py",
   "mimetype": "text/x-python",
   "name": "python",
   "nbconvert_exporter": "python",
   "pygments_lexer": "ipython3",
   "version": "3.11.8"
  }
 },
 "nbformat": 4,
 "nbformat_minor": 2
}
=======
{
 "cells": [
  {
   "cell_type": "code",
   "execution_count": 1,
   "metadata": {},
   "outputs": [
    {
     "name": "stdout",
     "output_type": "stream",
     "text": [
      "Collecting mermaid-python\n",
      "  Downloading mermaid_python-0.1-py3-none-any.whl.metadata (1.3 kB)\n",
      "Requirement already satisfied: ipython in c:\\users\\vtorr\\work\\projects\\aipatent\\.venv\\lib\\site-packages (from mermaid-python) (8.18.0)\n",
      "Requirement already satisfied: decorator in c:\\users\\vtorr\\work\\projects\\aipatent\\.venv\\lib\\site-packages (from ipython->mermaid-python) (5.1.1)\n",
      "Requirement already satisfied: jedi>=0.16 in c:\\users\\vtorr\\work\\projects\\aipatent\\.venv\\lib\\site-packages (from ipython->mermaid-python) (0.19.2)\n",
      "Requirement already satisfied: matplotlib-inline in c:\\users\\vtorr\\work\\projects\\aipatent\\.venv\\lib\\site-packages (from ipython->mermaid-python) (0.1.7)\n",
      "Requirement already satisfied: prompt-toolkit!=3.0.37,<3.1.0,>=3.0.30 in c:\\users\\vtorr\\work\\projects\\aipatent\\.venv\\lib\\site-packages (from ipython->mermaid-python) (3.0.36)\n",
      "Requirement already satisfied: pygments>=2.4.0 in c:\\users\\vtorr\\work\\projects\\aipatent\\.venv\\lib\\site-packages (from ipython->mermaid-python) (2.18.0)\n",
      "Requirement already satisfied: stack-data in c:\\users\\vtorr\\work\\projects\\aipatent\\.venv\\lib\\site-packages (from ipython->mermaid-python) (0.6.3)\n",
      "Requirement already satisfied: traitlets>=5 in c:\\users\\vtorr\\work\\projects\\aipatent\\.venv\\lib\\site-packages (from ipython->mermaid-python) (5.14.3)\n",
      "Requirement already satisfied: colorama in c:\\users\\vtorr\\work\\projects\\aipatent\\.venv\\lib\\site-packages (from ipython->mermaid-python) (0.4.6)\n",
      "Requirement already satisfied: parso<0.9.0,>=0.8.4 in c:\\users\\vtorr\\work\\projects\\aipatent\\.venv\\lib\\site-packages (from jedi>=0.16->ipython->mermaid-python) (0.8.4)\n",
      "Requirement already satisfied: wcwidth in c:\\users\\vtorr\\work\\projects\\aipatent\\.venv\\lib\\site-packages (from prompt-toolkit!=3.0.37,<3.1.0,>=3.0.30->ipython->mermaid-python) (0.2.13)\n",
      "Requirement already satisfied: executing>=1.2.0 in c:\\users\\vtorr\\work\\projects\\aipatent\\.venv\\lib\\site-packages (from stack-data->ipython->mermaid-python) (2.1.0)\n",
      "Requirement already satisfied: asttokens>=2.1.0 in c:\\users\\vtorr\\work\\projects\\aipatent\\.venv\\lib\\site-packages (from stack-data->ipython->mermaid-python) (2.4.1)\n",
      "Requirement already satisfied: pure-eval in c:\\users\\vtorr\\work\\projects\\aipatent\\.venv\\lib\\site-packages (from stack-data->ipython->mermaid-python) (0.2.3)\n",
      "Requirement already satisfied: six>=1.12.0 in c:\\users\\vtorr\\work\\projects\\aipatent\\.venv\\lib\\site-packages (from asttokens>=2.1.0->stack-data->ipython->mermaid-python) (1.16.0)\n",
      "Downloading mermaid_python-0.1-py3-none-any.whl (3.2 kB)\n",
      "Installing collected packages: mermaid-python\n",
      "Successfully installed mermaid-python-0.1\n",
      "Note: you may need to restart the kernel to use updated packages.\n"
     ]
    }
   ],
   "source": [
    "%pip install mermaid-python"
   ]
  },
  {
   "cell_type": "code",
   "execution_count": 2,
   "metadata": {},
   "outputs": [
    {
     "data": {
      "text/html": [
       "\n",
       "        <div class=\"mermaid-e8b234a7-1946-425b-9d5d-6731ba8b6c12\"></div>\n",
       "        <script type=\"module\">\n",
       "            import mermaid from 'https://cdn.jsdelivr.net/npm/mermaid@10.1.0/+esm'\n",
       "            const graphDefinition = 'graph TB\\na-->b';\n",
       "            const element = document.querySelector('.mermaid-e8b234a7-1946-425b-9d5d-6731ba8b6c12');\n",
       "            const { svg } = await mermaid.render('graphDiv-e8b234a7-1946-425b-9d5d-6731ba8b6c12', graphDefinition);\n",
       "            element.innerHTML = svg;\n",
       "        </script>\n",
       "        "
      ],
      "text/plain": [
       "<mermaid.mermaid.Mermaid at 0x1ec7f293150>"
      ]
     },
     "execution_count": 2,
     "metadata": {},
     "output_type": "execute_result"
    }
   ],
   "source": [
    "from mermaid import Mermaid\n",
    "Mermaid(\"graph TB\\na-->b\")"
   ]
  },
  {
   "cell_type": "code",
   "execution_count": 61,
   "metadata": {},
   "outputs": [
    {
     "data": {
      "text/html": [
       "\n",
       "        <div class=\"mermaid-54ab98d1-4348-44d0-837c-a7ce41e3e48a\"></div>\n",
       "        <script type=\"module\">\n",
       "            import mermaid from 'https://cdn.jsdelivr.net/npm/mermaid@10.1.0/+esm'\n",
       "            const graphDefinition = '%%{\\n    init: {\\n        \"theme\": \"base\",\\n        \"themeVariables\": {\\n        \"primaryColor\": \"#edf0f5\",\\n        \"primaryTextColor\": \"#353535\",\\n        \"primaryBorderColor\": \"#9fe3ff\",\\n        \"lineColor\": \"#353535\",\\n        \"secondaryColor\": \"#006100\",\\n        \"tertiaryColor\": \"#fff\"\\n        }\\n    }\\n    }%%\\n    flowchart LR\\n    docs -.- chunking([chunking])\\n    chunking([chunking]) -.- me([metadata-extraction])\\n    me([metadata-extraction]) -.- embedding([embedding])\\n    embedding([embedding]) -.- LanceDB[(LanceDB)]\\n    me([metadata-extraction]) -.- LanceDB[(LanceDB)];\\n    \\n';\n",
       "            const element = document.querySelector('.mermaid-54ab98d1-4348-44d0-837c-a7ce41e3e48a');\n",
       "            const { svg } = await mermaid.render('graphDiv-54ab98d1-4348-44d0-837c-a7ce41e3e48a', graphDefinition);\n",
       "            element.innerHTML = svg;\n",
       "        </script>\n",
       "        "
      ],
      "text/plain": [
       "<mermaid.mermaid.Mermaid at 0x1ec7f2bb210>"
      ]
     },
     "execution_count": 61,
     "metadata": {},
     "output_type": "execute_result"
    }
   ],
   "source": [
    "Mermaid(\"\"\"%%{\n",
    "    init: {\n",
    "        'theme': 'base',\n",
    "        'themeVariables': {\n",
    "        'primaryColor': '#edf0f5',\n",
    "        'primaryTextColor': '#353535',\n",
    "        'primaryBorderColor': '#9fe3ff',\n",
    "        'lineColor': '#353535',\n",
    "        'secondaryColor': '#006100',\n",
    "        'tertiaryColor': '#fff'\n",
    "        }\n",
    "    }\n",
    "    }%%\n",
    "    flowchart LR\n",
    "    docs -.- chunking([chunking])\n",
    "    chunking([chunking]) -.- me([metadata-extraction])\n",
    "    me([metadata-extraction]) -.- embedding([embedding])\n",
    "    embedding([embedding]) -.- LanceDB[(LanceDB)]\n",
    "    me([metadata-extraction]) -.- LanceDB[(LanceDB)];\n",
    "    \n",
    "\"\"\")"
   ]
  }
 ],
 "metadata": {
  "kernelspec": {
   "display_name": ".venv",
   "language": "python",
   "name": "python3"
  },
  "language_info": {
   "codemirror_mode": {
    "name": "ipython",
    "version": 3
   },
   "file_extension": ".py",
   "mimetype": "text/x-python",
   "name": "python",
   "nbconvert_exporter": "python",
   "pygments_lexer": "ipython3",
   "version": "3.11.8"
  }
 },
 "nbformat": 4,
 "nbformat_minor": 2
}
>>>>>>> 5b6e3e1f6bb904635df1f05e870b8aeeed94cf1b
