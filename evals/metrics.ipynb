<<<<<<< HEAD
{
 "cells": [
  {
   "cell_type": "code",
   "execution_count": 14,
   "metadata": {},
   "outputs": [
    {
     "data": {
      "text/html": [
       "<div>\n",
       "<style scoped>\n",
       "    .dataframe tbody tr th:only-of-type {\n",
       "        vertical-align: middle;\n",
       "    }\n",
       "\n",
       "    .dataframe tbody tr th {\n",
       "        vertical-align: top;\n",
       "    }\n",
       "\n",
       "    .dataframe thead th {\n",
       "        text-align: right;\n",
       "    }\n",
       "</style>\n",
       "<table border=\"1\" class=\"dataframe\">\n",
       "  <thead>\n",
       "    <tr style=\"text-align: right;\">\n",
       "      <th></th>\n",
       "      <th>element_id</th>\n",
       "      <th>text</th>\n",
       "      <th>page_number</th>\n",
       "      <th>filename</th>\n",
       "      <th>chunk_id</th>\n",
       "      <th>relevant</th>\n",
       "      <th>vector</th>\n",
       "    </tr>\n",
       "  </thead>\n",
       "  <tbody>\n",
       "    <tr>\n",
       "      <th>0</th>\n",
       "      <td>26e2ffa12765874ed647b25892f5742c</td>\n",
       "      <td>Bacteriophage targeting of gut bacterium attenuates alcoholic liver disease</td>\n",
       "      <td>1</td>\n",
       "      <td>ALD patent background + target paper.pdf</td>\n",
       "      <td>2</td>\n",
       "      <td>True</td>\n",
       "      <td>[-0.014854541, -0.008923997, 0.000650121, 0.027154, -0.035119843, -0.0049817823, -0.02385995, -0.008410475, -0.0042678625, 0.039027613, 0.0049629947, 0.0360...</td>\n",
       "    </tr>\n",
       "    <tr>\n",
       "      <th>1</th>\n",
       "      <td>a97990c757688b2ad9f9547223e628af</td>\n",
       "      <td>Chronic liver disease due to alcohol-use disorder contributes markedly to the global burden of disease and mortality1–3. Alcoholic hepatitis is a severe and...</td>\n",
       "      <td>1</td>\n",
       "      <td>ALD patent background + target paper.pdf</td>\n",
       "      <td>7</td>\n",
       "      <td>True</td>\n",
       "      <td>[-0.018429087, -0.008808589, -1.33657195e-05, -0.0013354644, -0.037863396, 0.0069721234, -0.02974429, -0.04304416, 0.021161232, 0.012526625, 0.0037631423, 0...</td>\n",
       "    </tr>\n",
       "    <tr>\n",
       "      <th>2</th>\n",
       "      <td>7700e213119d995bb900c028b2058ba8</td>\n",
       "      <td>and liver injury. Compared with non-alcoholic individuals or patients with alcohol-use disorder, patients with alcoholic hepatitis have increased faecal num...</td>\n",
       "      <td>1</td>\n",
       "      <td>ALD patent background + target paper.pdf</td>\n",
       "      <td>8</td>\n",
       "      <td>True</td>\n",
       "      <td>[-0.025166288, 0.0070274286, -0.0015974216, 0.009572266, -0.03203428, 0.009952458, -0.03122484, -0.048321236, -0.016593562, 0.005126466, -0.003185645, 0.006...</td>\n",
       "    </tr>\n",
       "    <tr>\n",
       "      <th>3</th>\n",
       "      <td>55628f8d8fcd11065a2f49008a2a0a12</td>\n",
       "      <td>bacteriophages that target cytolytic E. faecalis. We found that these bacteriophages decrease cytolysin in the liver and abolish ethanol-induced liver disea...</td>\n",
       "      <td>1</td>\n",
       "      <td>ALD patent background + target paper.pdf</td>\n",
       "      <td>9</td>\n",
       "      <td>True</td>\n",
       "      <td>[-0.04486677, -0.007175662, -0.012406342, 0.010832732, -0.029558692, 0.015282901, -0.041870616, -0.02945798, -0.0021715818, 0.038521975, -0.014666046, 0.020...</td>\n",
       "    </tr>\n",
       "    <tr>\n",
       "      <th>4</th>\n",
       "      <td>4d0808dcc0de15622ab920197f3e824e</td>\n",
       "      <td>The most severe form of alcohol-related liver disease is alcoholic hepa- titis; mortality ranges from 20% to 40% at 1–6 months, and as many as 75% of patien...</td>\n",
       "      <td>1</td>\n",
       "      <td>ALD patent background + target paper.pdf</td>\n",
       "      <td>11</td>\n",
       "      <td>True</td>\n",
       "      <td>[-0.010136027, -0.0044858353, -0.00051706604, 0.04730963, -0.036867194, -0.028385777, -0.01984308, -0.016913805, -0.010393411, 0.005346846, 0.020933898, -0....</td>\n",
       "    </tr>\n",
       "  </tbody>\n",
       "</table>\n",
       "</div>"
      ],
      "text/plain": [
       "                         element_id  \\\n",
       "0  26e2ffa12765874ed647b25892f5742c   \n",
       "1  a97990c757688b2ad9f9547223e628af   \n",
       "2  7700e213119d995bb900c028b2058ba8   \n",
       "3  55628f8d8fcd11065a2f49008a2a0a12   \n",
       "4  4d0808dcc0de15622ab920197f3e824e   \n",
       "\n",
       "                                                                                                                                                              text  \\\n",
       "0                                                                                      Bacteriophage targeting of gut bacterium attenuates alcoholic liver disease   \n",
       "1  Chronic liver disease due to alcohol-use disorder contributes markedly to the global burden of disease and mortality1–3. Alcoholic hepatitis is a severe and...   \n",
       "2  and liver injury. Compared with non-alcoholic individuals or patients with alcohol-use disorder, patients with alcoholic hepatitis have increased faecal num...   \n",
       "3  bacteriophages that target cytolytic E. faecalis. We found that these bacteriophages decrease cytolysin in the liver and abolish ethanol-induced liver disea...   \n",
       "4  The most severe form of alcohol-related liver disease is alcoholic hepa- titis; mortality ranges from 20% to 40% at 1–6 months, and as many as 75% of patien...   \n",
       "\n",
       "   page_number                                  filename  chunk_id  relevant  \\\n",
       "0            1  ALD patent background + target paper.pdf         2      True   \n",
       "1            1  ALD patent background + target paper.pdf         7      True   \n",
       "2            1  ALD patent background + target paper.pdf         8      True   \n",
       "3            1  ALD patent background + target paper.pdf         9      True   \n",
       "4            1  ALD patent background + target paper.pdf        11      True   \n",
       "\n",
       "                                                                                                                                                            vector  \n",
       "0  [-0.014854541, -0.008923997, 0.000650121, 0.027154, -0.035119843, -0.0049817823, -0.02385995, -0.008410475, -0.0042678625, 0.039027613, 0.0049629947, 0.0360...  \n",
       "1  [-0.018429087, -0.008808589, -1.33657195e-05, -0.0013354644, -0.037863396, 0.0069721234, -0.02974429, -0.04304416, 0.021161232, 0.012526625, 0.0037631423, 0...  \n",
       "2  [-0.025166288, 0.0070274286, -0.0015974216, 0.009572266, -0.03203428, 0.009952458, -0.03122484, -0.048321236, -0.016593562, 0.005126466, -0.003185645, 0.006...  \n",
       "3  [-0.04486677, -0.007175662, -0.012406342, 0.010832732, -0.029558692, 0.015282901, -0.041870616, -0.02945798, -0.0021715818, 0.038521975, -0.014666046, 0.020...  \n",
       "4  [-0.010136027, -0.0044858353, -0.00051706604, 0.04730963, -0.036867194, -0.028385777, -0.01984308, -0.016913805, -0.010393411, 0.005346846, 0.020933898, -0....  "
      ]
     },
     "execution_count": 14,
     "metadata": {},
     "output_type": "execute_result"
    }
   ],
   "source": [
    "import json\n",
    "import lancedb\n",
    "import pandas as pd\n",
    "from typing import List, Dict\n",
    "from concurrent.futures import ThreadPoolExecutor\n",
    "from scoring_utils import EvalQuestion, score, score_reranked_search\n",
    "\n",
    "\n",
    "from lancedb.pydantic import LanceModel, Vector\n",
    "from lancedb.embeddings import get_registry\n",
    "\n",
    "pd.set_option(\"display.max_colwidth\", 160)\n",
    "func = get_registry().get(\"openai\").create(name=\"text-embedding-3-large\")\n",
    "\n",
    "class Schema(LanceModel):\n",
    "    text: str = func.SourceField()\n",
    "    vector: Vector(func.ndims()) = func.VectorField()  # type: ignore\n",
    "    element_id: str\n",
    "    page_number: int\n",
    "    filename: str\n",
    "    chunk_id: int\n",
    "    relevant: bool\n",
    "\n",
    "\n",
    "db = lancedb.connect(rf\"C:\\Users\\vtorr\\Work\\Projects\\aipatent\\app\\data\\lancedb\")\n",
    "db.create_table(\"GVHD-ALD-Cleaned\", pd.read_csv(r\"C:\\Users\\vtorr\\Work\\Projects\\aipatent\\evals\\GVHD-ALD-papers-not-false.csv\"), schema=Schema)\n",
    "document_table = db.open_table(\"GVHD-ALD-Cleaned\")\n",
    "document_table.to_pandas().head()"
   ]
  },
  {
   "cell_type": "code",
   "execution_count": 15,
   "metadata": {},
   "outputs": [
    {
     "data": {
      "text/plain": [
       "EvalQuestion(question='Based on the content, what hypothesis is posited about the association of Enterococcus species with graft-versus-host disease?', answer='The hypothesis is that both Enterococcus faecium and Enterococcus faecalis might be associated with graft-versus-host disease.', chunk_id='565', question_with_context='You receive the following question:\\nQuestion: Based on the content, what hypothesis is posited about the association of Enterococcus species with graft-versus-host disease?\\nThis is about the following piece of text from a microbiology paper:\\nPaper Title: Lactose drives Enterococcus expansion to promote graft-versus-host disease\\nPaper chunk: Although we observed E. faecium domina- tion in patients and a transient expansion of E. faecalis in GVHD mice, we hypothesized that both members of this genus might be associated with GVHD. Of note, E. faecium\\n')"
      ]
     },
     "execution_count": 15,
     "metadata": {},
     "output_type": "execute_result"
    }
   ],
   "source": [
    "with open(rf\"C:\\Users\\vtorr\\Work\\Projects\\aipatent\\evals\\synthetic_eval_cleaned_gvhd_ald.json\", \"r\") as f:\n",
    "    synthetic_questions = json.load(f)\n",
    "synthetic_questions[:5]\n",
    "eval_questions = [EvalQuestion(**question) for question in synthetic_questions]\n",
    "eval_questions[0]"
   ]
  },
  {
   "cell_type": "code",
   "execution_count": 16,
   "metadata": {},
   "outputs": [],
   "source": [
    "def run_simple_request(q: EvalQuestion, n_return_vals=5):\n",
    "    results = (\n",
    "        document_table.search(q.question_with_context).select([\"chunk_id\"]).limit(n_return_vals).to_list()\n",
    "    )\n",
    "    return [str(q.chunk_id) == str(r[\"chunk_id\"]) for r in results]"
   ]
  },
  {
   "cell_type": "code",
   "execution_count": 17,
   "metadata": {},
   "outputs": [
    {
     "data": {
      "text/html": [
       "<div>\n",
       "<style scoped>\n",
       "    .dataframe tbody tr th:only-of-type {\n",
       "        vertical-align: middle;\n",
       "    }\n",
       "\n",
       "    .dataframe tbody tr th {\n",
       "        vertical-align: top;\n",
       "    }\n",
       "\n",
       "    .dataframe thead th {\n",
       "        text-align: right;\n",
       "    }\n",
       "</style>\n",
       "<table border=\"1\" class=\"dataframe\">\n",
       "  <thead>\n",
       "    <tr style=\"text-align: right;\">\n",
       "      <th></th>\n",
       "      <th>precision</th>\n",
       "      <th>recall</th>\n",
       "      <th>n_retrieved</th>\n",
       "    </tr>\n",
       "  </thead>\n",
       "  <tbody>\n",
       "    <tr>\n",
       "      <th>0</th>\n",
       "      <td>0.193464</td>\n",
       "      <td>0.967320</td>\n",
       "      <td>5</td>\n",
       "    </tr>\n",
       "    <tr>\n",
       "      <th>1</th>\n",
       "      <td>0.097059</td>\n",
       "      <td>0.970588</td>\n",
       "      <td>10</td>\n",
       "    </tr>\n",
       "  </tbody>\n",
       "</table>\n",
       "</div>"
      ],
      "text/plain": [
       "   precision    recall  n_retrieved\n",
       "0   0.193464  0.967320            5\n",
       "1   0.097059  0.970588           10"
      ]
     },
     "execution_count": 17,
     "metadata": {},
     "output_type": "execute_result"
    }
   ],
   "source": [
    "def score_simple_search(n_to_retrieve: List[int]) -> Dict[str, float]:\n",
    "    # parallelize to speed this up 5-10X\n",
    "    with ThreadPoolExecutor() as executor:\n",
    "        hits = list(\n",
    "            executor.map(lambda q: run_simple_request(q, n_to_retrieve), eval_questions)\n",
    "        )\n",
    "    return score(hits)\n",
    "\n",
    "k_to_retrieve = [5, 10]\n",
    "scores = pd.DataFrame([score_simple_search(n) for n in k_to_retrieve])\n",
    "scores[\"n_retrieved\"] = k_to_retrieve\n",
    "scores"
   ]
  },
  {
   "cell_type": "code",
   "execution_count": 18,
   "metadata": {},
   "outputs": [
    {
     "name": "stdout",
     "output_type": "stream",
     "text": [
      "   precision    recall  n_retrieved\n",
      "0   0.198039  0.990196            5\n",
      "1   0.099020  0.990196           10\n"
     ]
    }
   ],
   "source": [
    "k_to_retrieve = [5, 10]\n",
    "reranked_scores = score_reranked_search(eval_questions, document_table, k_to_retrieve)\n",
    "reranked_scores_df = pd.DataFrame([\n",
    "    {\"precision\": scores[\"precision\"], \"recall\": scores[\"recall\"], \"n_retrieved\": k}\n",
    "    for k, scores in reranked_scores.items()\n",
    "])\n",
    "print(reranked_scores_df)"
   ]
  }
 ],
 "metadata": {
  "kernelspec": {
   "display_name": ".venv",
   "language": "python",
   "name": "python3"
  },
  "language_info": {
   "codemirror_mode": {
    "name": "ipython",
    "version": 3
   },
   "file_extension": ".py",
   "mimetype": "text/x-python",
   "name": "python",
   "nbconvert_exporter": "python",
   "pygments_lexer": "ipython3",
   "version": "3.11.8"
  }
 },
 "nbformat": 4,
 "nbformat_minor": 2
}
=======
{
 "cells": [
  {
   "cell_type": "code",
   "execution_count": 14,
   "metadata": {},
   "outputs": [
    {
     "data": {
      "text/html": [
       "<div>\n",
       "<style scoped>\n",
       "    .dataframe tbody tr th:only-of-type {\n",
       "        vertical-align: middle;\n",
       "    }\n",
       "\n",
       "    .dataframe tbody tr th {\n",
       "        vertical-align: top;\n",
       "    }\n",
       "\n",
       "    .dataframe thead th {\n",
       "        text-align: right;\n",
       "    }\n",
       "</style>\n",
       "<table border=\"1\" class=\"dataframe\">\n",
       "  <thead>\n",
       "    <tr style=\"text-align: right;\">\n",
       "      <th></th>\n",
       "      <th>element_id</th>\n",
       "      <th>text</th>\n",
       "      <th>page_number</th>\n",
       "      <th>filename</th>\n",
       "      <th>chunk_id</th>\n",
       "      <th>relevant</th>\n",
       "      <th>vector</th>\n",
       "    </tr>\n",
       "  </thead>\n",
       "  <tbody>\n",
       "    <tr>\n",
       "      <th>0</th>\n",
       "      <td>26e2ffa12765874ed647b25892f5742c</td>\n",
       "      <td>Bacteriophage targeting of gut bacterium attenuates alcoholic liver disease</td>\n",
       "      <td>1</td>\n",
       "      <td>ALD patent background + target paper.pdf</td>\n",
       "      <td>2</td>\n",
       "      <td>True</td>\n",
       "      <td>[-0.014854541, -0.008923997, 0.000650121, 0.027154, -0.035119843, -0.0049817823, -0.02385995, -0.008410475, -0.0042678625, 0.039027613, 0.0049629947, 0.0360...</td>\n",
       "    </tr>\n",
       "    <tr>\n",
       "      <th>1</th>\n",
       "      <td>a97990c757688b2ad9f9547223e628af</td>\n",
       "      <td>Chronic liver disease due to alcohol-use disorder contributes markedly to the global burden of disease and mortality1–3. Alcoholic hepatitis is a severe and...</td>\n",
       "      <td>1</td>\n",
       "      <td>ALD patent background + target paper.pdf</td>\n",
       "      <td>7</td>\n",
       "      <td>True</td>\n",
       "      <td>[-0.018429087, -0.008808589, -1.33657195e-05, -0.0013354644, -0.037863396, 0.0069721234, -0.02974429, -0.04304416, 0.021161232, 0.012526625, 0.0037631423, 0...</td>\n",
       "    </tr>\n",
       "    <tr>\n",
       "      <th>2</th>\n",
       "      <td>7700e213119d995bb900c028b2058ba8</td>\n",
       "      <td>and liver injury. Compared with non-alcoholic individuals or patients with alcohol-use disorder, patients with alcoholic hepatitis have increased faecal num...</td>\n",
       "      <td>1</td>\n",
       "      <td>ALD patent background + target paper.pdf</td>\n",
       "      <td>8</td>\n",
       "      <td>True</td>\n",
       "      <td>[-0.025166288, 0.0070274286, -0.0015974216, 0.009572266, -0.03203428, 0.009952458, -0.03122484, -0.048321236, -0.016593562, 0.005126466, -0.003185645, 0.006...</td>\n",
       "    </tr>\n",
       "    <tr>\n",
       "      <th>3</th>\n",
       "      <td>55628f8d8fcd11065a2f49008a2a0a12</td>\n",
       "      <td>bacteriophages that target cytolytic E. faecalis. We found that these bacteriophages decrease cytolysin in the liver and abolish ethanol-induced liver disea...</td>\n",
       "      <td>1</td>\n",
       "      <td>ALD patent background + target paper.pdf</td>\n",
       "      <td>9</td>\n",
       "      <td>True</td>\n",
       "      <td>[-0.04486677, -0.007175662, -0.012406342, 0.010832732, -0.029558692, 0.015282901, -0.041870616, -0.02945798, -0.0021715818, 0.038521975, -0.014666046, 0.020...</td>\n",
       "    </tr>\n",
       "    <tr>\n",
       "      <th>4</th>\n",
       "      <td>4d0808dcc0de15622ab920197f3e824e</td>\n",
       "      <td>The most severe form of alcohol-related liver disease is alcoholic hepa- titis; mortality ranges from 20% to 40% at 1–6 months, and as many as 75% of patien...</td>\n",
       "      <td>1</td>\n",
       "      <td>ALD patent background + target paper.pdf</td>\n",
       "      <td>11</td>\n",
       "      <td>True</td>\n",
       "      <td>[-0.010136027, -0.0044858353, -0.00051706604, 0.04730963, -0.036867194, -0.028385777, -0.01984308, -0.016913805, -0.010393411, 0.005346846, 0.020933898, -0....</td>\n",
       "    </tr>\n",
       "  </tbody>\n",
       "</table>\n",
       "</div>"
      ],
      "text/plain": [
       "                         element_id  \\\n",
       "0  26e2ffa12765874ed647b25892f5742c   \n",
       "1  a97990c757688b2ad9f9547223e628af   \n",
       "2  7700e213119d995bb900c028b2058ba8   \n",
       "3  55628f8d8fcd11065a2f49008a2a0a12   \n",
       "4  4d0808dcc0de15622ab920197f3e824e   \n",
       "\n",
       "                                                                                                                                                              text  \\\n",
       "0                                                                                      Bacteriophage targeting of gut bacterium attenuates alcoholic liver disease   \n",
       "1  Chronic liver disease due to alcohol-use disorder contributes markedly to the global burden of disease and mortality1–3. Alcoholic hepatitis is a severe and...   \n",
       "2  and liver injury. Compared with non-alcoholic individuals or patients with alcohol-use disorder, patients with alcoholic hepatitis have increased faecal num...   \n",
       "3  bacteriophages that target cytolytic E. faecalis. We found that these bacteriophages decrease cytolysin in the liver and abolish ethanol-induced liver disea...   \n",
       "4  The most severe form of alcohol-related liver disease is alcoholic hepa- titis; mortality ranges from 20% to 40% at 1–6 months, and as many as 75% of patien...   \n",
       "\n",
       "   page_number                                  filename  chunk_id  relevant  \\\n",
       "0            1  ALD patent background + target paper.pdf         2      True   \n",
       "1            1  ALD patent background + target paper.pdf         7      True   \n",
       "2            1  ALD patent background + target paper.pdf         8      True   \n",
       "3            1  ALD patent background + target paper.pdf         9      True   \n",
       "4            1  ALD patent background + target paper.pdf        11      True   \n",
       "\n",
       "                                                                                                                                                            vector  \n",
       "0  [-0.014854541, -0.008923997, 0.000650121, 0.027154, -0.035119843, -0.0049817823, -0.02385995, -0.008410475, -0.0042678625, 0.039027613, 0.0049629947, 0.0360...  \n",
       "1  [-0.018429087, -0.008808589, -1.33657195e-05, -0.0013354644, -0.037863396, 0.0069721234, -0.02974429, -0.04304416, 0.021161232, 0.012526625, 0.0037631423, 0...  \n",
       "2  [-0.025166288, 0.0070274286, -0.0015974216, 0.009572266, -0.03203428, 0.009952458, -0.03122484, -0.048321236, -0.016593562, 0.005126466, -0.003185645, 0.006...  \n",
       "3  [-0.04486677, -0.007175662, -0.012406342, 0.010832732, -0.029558692, 0.015282901, -0.041870616, -0.02945798, -0.0021715818, 0.038521975, -0.014666046, 0.020...  \n",
       "4  [-0.010136027, -0.0044858353, -0.00051706604, 0.04730963, -0.036867194, -0.028385777, -0.01984308, -0.016913805, -0.010393411, 0.005346846, 0.020933898, -0....  "
      ]
     },
     "execution_count": 14,
     "metadata": {},
     "output_type": "execute_result"
    }
   ],
   "source": [
    "import json\n",
    "import lancedb\n",
    "import pandas as pd\n",
    "from typing import List, Dict\n",
    "from concurrent.futures import ThreadPoolExecutor\n",
    "from scoring_utils import EvalQuestion, score, score_reranked_search\n",
    "\n",
    "\n",
    "from lancedb.pydantic import LanceModel, Vector\n",
    "from lancedb.embeddings import get_registry\n",
    "\n",
    "pd.set_option(\"display.max_colwidth\", 160)\n",
    "func = get_registry().get(\"openai\").create(name=\"text-embedding-3-large\")\n",
    "\n",
    "class Schema(LanceModel):\n",
    "    text: str = func.SourceField()\n",
    "    vector: Vector(func.ndims()) = func.VectorField()  # type: ignore\n",
    "    element_id: str\n",
    "    page_number: int\n",
    "    filename: str\n",
    "    chunk_id: int\n",
    "    relevant: bool\n",
    "\n",
    "\n",
    "db = lancedb.connect(rf\"C:\\Users\\vtorr\\Work\\Projects\\aipatent\\app\\data\\lancedb\")\n",
    "db.create_table(\"GVHD-ALD-Cleaned\", pd.read_csv(r\"C:\\Users\\vtorr\\Work\\Projects\\aipatent\\evals\\GVHD-ALD-papers-not-false.csv\"), schema=Schema)\n",
    "document_table = db.open_table(\"GVHD-ALD-Cleaned\")\n",
    "document_table.to_pandas().head()"
   ]
  },
  {
   "cell_type": "code",
   "execution_count": 15,
   "metadata": {},
   "outputs": [
    {
     "data": {
      "text/plain": [
       "EvalQuestion(question='Based on the content, what hypothesis is posited about the association of Enterococcus species with graft-versus-host disease?', answer='The hypothesis is that both Enterococcus faecium and Enterococcus faecalis might be associated with graft-versus-host disease.', chunk_id='565', question_with_context='You receive the following question:\\nQuestion: Based on the content, what hypothesis is posited about the association of Enterococcus species with graft-versus-host disease?\\nThis is about the following piece of text from a microbiology paper:\\nPaper Title: Lactose drives Enterococcus expansion to promote graft-versus-host disease\\nPaper chunk: Although we observed E. faecium domina- tion in patients and a transient expansion of E. faecalis in GVHD mice, we hypothesized that both members of this genus might be associated with GVHD. Of note, E. faecium\\n')"
      ]
     },
     "execution_count": 15,
     "metadata": {},
     "output_type": "execute_result"
    }
   ],
   "source": [
    "with open(rf\"C:\\Users\\vtorr\\Work\\Projects\\aipatent\\evals\\synthetic_eval_cleaned_gvhd_ald.json\", \"r\") as f:\n",
    "    synthetic_questions = json.load(f)\n",
    "synthetic_questions[:5]\n",
    "eval_questions = [EvalQuestion(**question) for question in synthetic_questions]\n",
    "eval_questions[0]"
   ]
  },
  {
   "cell_type": "code",
   "execution_count": 16,
   "metadata": {},
   "outputs": [],
   "source": [
    "def run_simple_request(q: EvalQuestion, n_return_vals=5):\n",
    "    results = (\n",
    "        document_table.search(q.question_with_context).select([\"chunk_id\"]).limit(n_return_vals).to_list()\n",
    "    )\n",
    "    return [str(q.chunk_id) == str(r[\"chunk_id\"]) for r in results]"
   ]
  },
  {
   "cell_type": "code",
   "execution_count": 17,
   "metadata": {},
   "outputs": [
    {
     "data": {
      "text/html": [
       "<div>\n",
       "<style scoped>\n",
       "    .dataframe tbody tr th:only-of-type {\n",
       "        vertical-align: middle;\n",
       "    }\n",
       "\n",
       "    .dataframe tbody tr th {\n",
       "        vertical-align: top;\n",
       "    }\n",
       "\n",
       "    .dataframe thead th {\n",
       "        text-align: right;\n",
       "    }\n",
       "</style>\n",
       "<table border=\"1\" class=\"dataframe\">\n",
       "  <thead>\n",
       "    <tr style=\"text-align: right;\">\n",
       "      <th></th>\n",
       "      <th>precision</th>\n",
       "      <th>recall</th>\n",
       "      <th>n_retrieved</th>\n",
       "    </tr>\n",
       "  </thead>\n",
       "  <tbody>\n",
       "    <tr>\n",
       "      <th>0</th>\n",
       "      <td>0.193464</td>\n",
       "      <td>0.967320</td>\n",
       "      <td>5</td>\n",
       "    </tr>\n",
       "    <tr>\n",
       "      <th>1</th>\n",
       "      <td>0.097059</td>\n",
       "      <td>0.970588</td>\n",
       "      <td>10</td>\n",
       "    </tr>\n",
       "  </tbody>\n",
       "</table>\n",
       "</div>"
      ],
      "text/plain": [
       "   precision    recall  n_retrieved\n",
       "0   0.193464  0.967320            5\n",
       "1   0.097059  0.970588           10"
      ]
     },
     "execution_count": 17,
     "metadata": {},
     "output_type": "execute_result"
    }
   ],
   "source": [
    "def score_simple_search(n_to_retrieve: List[int]) -> Dict[str, float]:\n",
    "    # parallelize to speed this up 5-10X\n",
    "    with ThreadPoolExecutor() as executor:\n",
    "        hits = list(\n",
    "            executor.map(lambda q: run_simple_request(q, n_to_retrieve), eval_questions)\n",
    "        )\n",
    "    return score(hits)\n",
    "\n",
    "k_to_retrieve = [5, 10]\n",
    "scores = pd.DataFrame([score_simple_search(n) for n in k_to_retrieve])\n",
    "scores[\"n_retrieved\"] = k_to_retrieve\n",
    "scores"
   ]
  },
  {
   "cell_type": "code",
   "execution_count": 18,
   "metadata": {},
   "outputs": [
    {
     "name": "stdout",
     "output_type": "stream",
     "text": [
      "   precision    recall  n_retrieved\n",
      "0   0.198039  0.990196            5\n",
      "1   0.099020  0.990196           10\n"
     ]
    }
   ],
   "source": [
    "k_to_retrieve = [5, 10]\n",
    "reranked_scores = score_reranked_search(eval_questions, document_table, k_to_retrieve)\n",
    "reranked_scores_df = pd.DataFrame([\n",
    "    {\"precision\": scores[\"precision\"], \"recall\": scores[\"recall\"], \"n_retrieved\": k}\n",
    "    for k, scores in reranked_scores.items()\n",
    "])\n",
    "print(reranked_scores_df)"
   ]
  }
 ],
 "metadata": {
  "kernelspec": {
   "display_name": ".venv",
   "language": "python",
   "name": "python3"
  },
  "language_info": {
   "codemirror_mode": {
    "name": "ipython",
    "version": 3
   },
   "file_extension": ".py",
   "mimetype": "text/x-python",
   "name": "python",
   "nbconvert_exporter": "python",
   "pygments_lexer": "ipython3",
   "version": "3.11.8"
  }
 },
 "nbformat": 4,
 "nbformat_minor": 2
}
>>>>>>> 5b6e3e1f6bb904635df1f05e870b8aeeed94cf1b
